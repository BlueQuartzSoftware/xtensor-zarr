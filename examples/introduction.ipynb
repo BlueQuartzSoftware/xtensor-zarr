{
 "cells": [
  {
   "cell_type": "code",
   "execution_count": null,
   "metadata": {},
   "outputs": [],
   "source": [
    "!rm -rf xtensor xtensor-io xtl"
   ]
  },
  {
   "cell_type": "code",
   "execution_count": null,
   "metadata": {},
   "outputs": [],
   "source": [
    "!git clone --single-branch --branch zarray https://github.com/davidbrochart/xtensor.git"
   ]
  },
  {
   "cell_type": "code",
   "execution_count": null,
   "metadata": {},
   "outputs": [],
   "source": [
    "!git clone https://github.com/xtensor-stack/xtensor-io.git"
   ]
  },
  {
   "cell_type": "code",
   "execution_count": null,
   "metadata": {},
   "outputs": [],
   "source": [
    "!git clone https://github.com/xtensor-stack/xtl.git"
   ]
  },
  {
   "cell_type": "code",
   "execution_count": null,
   "metadata": {},
   "outputs": [],
   "source": [
    "#pragma cling add_include_path(\"xtensor/include\")\n",
    "#pragma cling add_include_path(\"xtensor-io/include\")\n",
    "#pragma cling add_include_path(\"xtl/include\")\n",
    "#pragma cling add_include_path(\"../include\")"
   ]
  },
  {
   "cell_type": "code",
   "execution_count": null,
   "metadata": {},
   "outputs": [],
   "source": [
    "#include \"xtensor/xview.hpp\"\n",
    "#include \"xtensor/xchunked_array.hpp\"\n",
    "#include \"xtensor/xchunk_store_manager.hpp\"\n",
    "#include \"xtensor/xfile_array.hpp\"\n",
    "#include \"xtensor/xdisk_io_handler.hpp\"\n",
    "#include \"xtensor-io/xio_binary.hpp\"\n",
    "#include \"xtensor-zarr/xzarr_hierarchy.hpp\"\n",
    "#include \"xtensor-zarr/xzarr_file_system_store.hpp\""
   ]
  },
  {
   "cell_type": "code",
   "execution_count": null,
   "metadata": {},
   "outputs": [],
   "source": [
    "using namespace xt;"
   ]
  },
  {
   "cell_type": "code",
   "execution_count": null,
   "metadata": {},
   "outputs": [],
   "source": [
    "!mkdir -p chunks1 chunks2 chunks3"
   ]
  },
  {
   "cell_type": "code",
   "execution_count": null,
   "metadata": {},
   "outputs": [],
   "source": [
    "std::vector<size_t> shape = {4, 4};\n",
    "std::vector<size_t> chunk_shape = {2, 2};\n",
    "\n",
    "using array = xchunked_array<xchunk_store_manager<xfile_array<double, xdisk_io_handler<xio_binary_config>>>>;\n",
    "array a1(shape, chunk_shape);\n",
    "array a2(shape, chunk_shape);\n",
    "array a3(shape, chunk_shape);\n",
    "a1.chunks().set_directory(\"chunks1\");\n",
    "a2.chunks().set_directory(\"chunks2\");\n",
    "a3.chunks().set_directory(\"chunks3\");\n",
    "a1(0, 0) = 1;\n",
    "a2(2, 2) = 1;\n",
    "view(a3, all(), all()) = view(a1, all(), all()) + view(a2, all(), all());\n",
    "std::cout << a1 << std::endl;\n",
    "std::cout << a2 << std::endl;\n",
    "std::cout << a3 << std::endl;"
   ]
  },
  {
   "cell_type": "code",
   "execution_count": null,
   "metadata": {},
   "outputs": [],
   "source": [
    "!ls chunks1 chunks2 chunks3"
   ]
  },
  {
   "cell_type": "code",
   "execution_count": null,
   "metadata": {},
   "outputs": [],
   "source": [
    "std::vector<size_t> shape = {4, 4};\n",
    "std::vector<size_t> chunk_shape = {2, 2};\n",
    "nlohmann::json attrs = {{\"question\", \"life\"}, {\"answer\", 42}};\n",
    "xzarr_file_system_store s(\"h_xtensor.zr3\");\n",
    "auto h = create_zarr_hierarchy(s);\n",
    "zarray z = h.create_array(\"/arthur/dent\", shape, chunk_shape, \"<f8\", '/', xio_binary_config(), attrs);"
   ]
  },
  {
   "cell_type": "code",
   "execution_count": null,
   "metadata": {},
   "outputs": [],
   "source": [
    "!find h_xtensor.zr3"
   ]
  },
  {
   "cell_type": "code",
   "execution_count": null,
   "metadata": {},
   "outputs": [],
   "source": [
    "!cat h_xtensor.zr3/meta/root/arthur/dent.array"
   ]
  }
 ],
 "metadata": {
  "kernelspec": {
   "display_name": "C++14",
   "language": "C++14",
   "name": "xcpp14"
  },
  "language_info": {
   "codemirror_mode": "text/x-c++src",
   "file_extension": ".cpp",
   "mimetype": "text/x-c++src",
   "name": "c++",
   "version": "14"
  }
 },
 "nbformat": 4,
 "nbformat_minor": 4
}

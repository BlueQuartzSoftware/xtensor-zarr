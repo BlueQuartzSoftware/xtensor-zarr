{
 "cells": [
  {
   "cell_type": "markdown",
   "metadata": {},
   "source": [
    "# Zarr (v3) interoperability between Python and C++"
   ]
  },
  {
   "cell_type": "markdown",
   "metadata": {},
   "source": [
    "In this notebook we use [zarrita](https://github.com/alimanfoo/zarrita) and [xtensor-zarr](https://github.com/xtensor-stack/xtensor-zarr) to make use of a common Zarr store interchangeably: a Zarr store written by zarrita can be read by xtensor-zarr, and the other way around."
   ]
  },
  {
   "cell_type": "markdown",
   "metadata": {},
   "source": [
    "## Download development source code"
   ]
  },
  {
   "cell_type": "code",
   "execution_count": null,
   "metadata": {},
   "outputs": [],
   "source": [
    ">bash\n",
    "rm -rf zarrita xtensor xtensor-io xtl *.tar.gz*\n",
    "mkdir -p zarrita xtensor xtensor-io xtl\n",
    "\n",
    "wget https://github.com/davidbrochart/zarrita/archive/codec.tar.gz -O zarrita.tar.gz -q\n",
    "tar zxf zarrita.tar.gz -C zarrita --strip-components 1\n",
    "mv zarrita/zarrita.py .\n",
    "\n",
    "wget https://github.com/davidbrochart/xtensor/archive/zarray.tar.gz -O xtensor.tar.gz -q\n",
    "tar zxf xtensor.tar.gz -C xtensor --strip-components 1\n",
    "\n",
    "wget https://github.com/xtensor-stack/xtensor-io/archive/master.tar.gz -O xtensor-io.tar.gz -q\n",
    "tar zxf xtensor-io.tar.gz -C xtensor-io --strip-components 1\n",
    "\n",
    "wget https://github.com/xtensor-stack/xtl/archive/master.tar.gz -O xtl.tar.gz -q\n",
    "tar zxf xtl.tar.gz -C xtl --strip-components 1"
   ]
  },
  {
   "cell_type": "code",
   "execution_count": null,
   "metadata": {},
   "outputs": [],
   "source": [
    ">xcpp14\n",
    "#pragma cling add_include_path(\"xtensor/include\")\n",
    "#pragma cling add_include_path(\"xtensor-io/include\")\n",
    "#pragma cling add_include_path(\"xtl/include\")\n",
    "#pragma cling add_include_path(\"../include\")"
   ]
  },
  {
   "cell_type": "code",
   "execution_count": null,
   "metadata": {},
   "outputs": [],
   "source": [
    ">xcpp14\n",
    "#include \"xtensor/xview.hpp\"\n",
    "#include \"xtensor/xchunked_array.hpp\"\n",
    "#include \"xtensor/xchunk_store_manager.hpp\"\n",
    "#include \"xtensor/xfile_array.hpp\"\n",
    "#include \"xtensor/xdisk_io_handler.hpp\"\n",
    "#include \"xtensor-io/xio_binary.hpp\"\n",
    "#include \"xtensor-zarr/xzarr_hierarchy.hpp\"\n",
    "#include \"xtensor-zarr/xzarr_file_system_store.hpp\""
   ]
  },
  {
   "cell_type": "markdown",
   "metadata": {},
   "source": [
    "## Create a Zarr hierarchy and array in Python"
   ]
  },
  {
   "cell_type": "code",
   "execution_count": null,
   "metadata": {},
   "outputs": [],
   "source": [
    ">bash\n",
    "rm -rf h_zarrita.zr3"
   ]
  },
  {
   "cell_type": "code",
   "execution_count": null,
   "metadata": {},
   "outputs": [],
   "source": [
    ">python3\n",
    "import zarrita\n",
    "import numpy as np\n",
    "\n",
    "h = zarrita.create_hierarchy('h_zarrita.zr3')\n",
    "attrs = {'question': 'life', 'answer': 42}\n",
    "a = h.create_array('/arthur/dent', shape=(5, 10), dtype='float64', chunk_shape=(2, 5), compressor=None, attrs=attrs)\n",
    "a[:, :] = np.arange(5 * 10).reshape(5, 10)"
   ]
  },
  {
   "cell_type": "code",
   "execution_count": null,
   "metadata": {},
   "outputs": [],
   "source": [
    ">bash\n",
    "find h_zarrita.zr3"
   ]
  },
  {
   "cell_type": "code",
   "execution_count": null,
   "metadata": {},
   "outputs": [],
   "source": [
    ">bash\n",
    "cat h_zarrita.zr3/meta/root/arthur/dent.array"
   ]
  },
  {
   "cell_type": "markdown",
   "metadata": {},
   "source": [
    "## Open the Zarr hierarchy and array in C++"
   ]
  },
  {
   "cell_type": "code",
   "execution_count": null,
   "metadata": {},
   "outputs": [],
   "source": [
    ">xcpp14\n",
    "xt::xzarr_file_system_store s(\"h_zarrita.zr3\");\n",
    "auto h = xt::get_zarr_hierarchy(s);\n",
    "xt::zarray z = h.get_array(\"/arthur/dent\");"
   ]
  },
  {
   "cell_type": "markdown",
   "metadata": {},
   "source": [
    "## Create a Zarr hierarchy and array in C++"
   ]
  },
  {
   "cell_type": "code",
   "execution_count": null,
   "metadata": {},
   "outputs": [],
   "source": [
    ">xcpp14\n",
    "std::vector<size_t> shape = {4, 4};\n",
    "std::vector<size_t> chunk_shape = {2, 2};\n",
    "nlohmann::json attrs = {{\"question\", \"life\"}, {\"answer\", 42}};\n",
    "xt::xzarr_file_system_store s(\"h_xtensor.zr3\");\n",
    "auto h = xt::create_zarr_hierarchy(s);\n",
    "xt::zarray z = h.create_array(\"/arthur/dent\", shape, chunk_shape, \"<f8\", '/', xt::xio_binary_config(), attrs);"
   ]
  },
  {
   "cell_type": "code",
   "execution_count": null,
   "metadata": {},
   "outputs": [],
   "source": [
    ">bash\n",
    "find h_xtensor.zr3"
   ]
  },
  {
   "cell_type": "code",
   "execution_count": null,
   "metadata": {},
   "outputs": [],
   "source": [
    ">bash\n",
    "cat h_xtensor.zr3/meta/root/arthur/dent.array"
   ]
  },
  {
   "cell_type": "markdown",
   "metadata": {},
   "source": [
    "## Open the Zarr hierarchy and array in Python"
   ]
  },
  {
   "cell_type": "code",
   "execution_count": null,
   "metadata": {},
   "outputs": [],
   "source": [
    ">python3\n",
    "h = zarrita.get_hierarchy('h_xtensor.zr3')\n",
    "a = h['arthur/dent']\n",
    "\n",
    "assert a.shape == (4, 4)\n",
    "assert a.dtype == np.dtype('float64')\n",
    "assert a.chunk_shape == (2, 2)\n",
    "assert a.compressor == None\n",
    "assert a.attrs == {'answer': 42, 'question': 'life'}"
   ]
  }
 ],
 "metadata": {
  "kernelspec": {
   "display_name": "All the Kernels",
   "language": "",
   "name": "atk"
  },
  "language_info": {
   "mimetype": "text/plain",
   "name": "all-of-them"
  }
 },
 "nbformat": 4,
 "nbformat_minor": 4
}

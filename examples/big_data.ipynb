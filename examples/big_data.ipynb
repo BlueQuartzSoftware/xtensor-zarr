{
 "cells": [
  {
   "cell_type": "markdown",
   "id": "formed-relationship",
   "metadata": {},
   "source": [
    "# Accessing big data in the cloud"
   ]
  },
  {
   "cell_type": "code",
   "execution_count": null,
   "id": "alone-phenomenon",
   "metadata": {},
   "outputs": [],
   "source": [
    "#pragma cling add_library_path(\"$CONDA_PREFIX/lib\")"
   ]
  },
  {
   "cell_type": "code",
   "execution_count": null,
   "id": "b195a6ea-e472-40c6-a954-f4b70f4d7d4d",
   "metadata": {},
   "outputs": [],
   "source": [
    "#pragma cling load(\"storage_client\")"
   ]
  },
  {
   "cell_type": "code",
   "execution_count": null,
   "id": "senior-authorization",
   "metadata": {},
   "outputs": [],
   "source": [
    "#include \"xtensor/xio.hpp\"\n",
    "#include \"xtensor/xview.hpp\"\n",
    "#include \"xwidgets/ximage.hpp\"\n",
    "#include \"xtensor/xchunked_array.hpp\"\n",
    "#include \"xtensor-io/xio_blosc.hpp\"\n",
    "#include \"xtensor-io/xchunk_store_manager.hpp\"\n",
    "#include \"xtensor-io/ximage.hpp\"\n",
    "#include \"xtensor-zarr/xzarr_hierarchy.hpp\"\n",
    "#include \"xtensor-zarr/xzarr_gcs_store.hpp\"\n",
    "#include \"xtensor-zarr/xtensor_zarr_config_cling.hpp\"\n",
    "#include \"xtl/xbase64.hpp\"\n",
    "#include \"xcpp/xdisplay.hpp\"\n",
    "#include <cppcolormap.h>\n",
    "#include <iostream>"
   ]
  },
  {
   "cell_type": "markdown",
   "id": "horizontal-england",
   "metadata": {},
   "source": [
    "In this Notebook we will access some precipitation data hosted in Google Cloud Storage."
   ]
  },
  {
   "cell_type": "code",
   "execution_count": null,
   "id": "cognitive-worship",
   "metadata": {},
   "outputs": [],
   "source": [
    "xt::xzarr_register_compressor<xt::xzarr_gcs_store, xt::xio_blosc_config>();\n",
    "gcs::Client client((gcs::ClientOptions(gcs::oauth2::CreateAnonymousCredentials())));\n",
    "xt::xzarr_gcs_store s(\"pangeo-data/gpm_imerg/late/chunk_time/precipitationCal\", client);\n",
    "auto h = xt::get_zarr_hierarchy(s, \"2\");\n",
    "auto z = h.get_array(\"\");\n",
    "auto metadata = z.get_metadata();\n",
    "metadata.dump()"
   ]
  },
  {
   "cell_type": "markdown",
   "id": "rational-strengthening",
   "metadata": {},
   "source": [
    "Let's see how much data we have in the store."
   ]
  },
  {
   "cell_type": "code",
   "execution_count": null,
   "id": "geological-contemporary",
   "metadata": {},
   "outputs": [],
   "source": [
    "float size = 1.;\n",
    "std::cout << \"shape: \";\n",
    "for (auto s: z.shape())\n",
    "{\n",
    "    std::cout << s << \" \";\n",
    "    size *= s;\n",
    "}\n",
    "std::cout << std::endl;\n",
    "size = size * sizeof(float) / (1024. * 1024. * 1024. * 1024.);\n",
    "std::cout << size << \" TB\" << std::endl;"
   ]
  },
  {
   "cell_type": "markdown",
   "id": "silent-speed",
   "metadata": {},
   "source": [
    "We cannot load 8 TB of data in memory, so let's access the 1000th element (in the time dimension)."
   ]
  },
  {
   "cell_type": "code",
   "execution_count": null,
   "id": "every-precipitation",
   "metadata": {},
   "outputs": [],
   "source": [
    "xt::xstrided_slice_vector sv({1000, xt::all(), xt::all()});\n",
    "auto z_slice = xt::strided_view(z, sv);\n",
    "auto a = z_slice.get_array<float>();"
   ]
  },
  {
   "cell_type": "markdown",
   "id": "million-expert",
   "metadata": {},
   "source": [
    "The absence of data in this dataset is represented by a negative value (which is impossible for a precipitation), so we will just clip any negative value."
   ]
  },
  {
   "cell_type": "code",
   "execution_count": null,
   "id": "brown-nashville",
   "metadata": {},
   "outputs": [],
   "source": [
    "auto a_max = xt::amax(a)();\n",
    "xt::xarray<float> a_clip = xt::clip(a, 0, a_max);"
   ]
  },
  {
   "cell_type": "markdown",
   "id": "known-crawford",
   "metadata": {},
   "source": [
    "Now let's map a RGB color to every value in our dataset, using the jet colormap."
   ]
  },
  {
   "cell_type": "code",
   "execution_count": null,
   "id": "whole-trust",
   "metadata": {},
   "outputs": [],
   "source": [
    "auto cmap = cppcolormap::jet();\n",
    "auto a_cmap = cppcolormap::as_colors(a_clip, cmap);"
   ]
  },
  {
   "cell_type": "markdown",
   "id": "functioning-advance",
   "metadata": {},
   "source": [
    "We are now ready to show an image of the precipitation field."
   ]
  },
  {
   "cell_type": "code",
   "execution_count": null,
   "id": "velvet-orange",
   "metadata": {},
   "outputs": [],
   "source": [
    "std::vector<char> read_file(const char* filename)\n",
    "{\n",
    "    std::basic_ifstream<char> file(filename, std::ios::binary);\n",
    "    return std::vector<char>((std::istreambuf_iterator<char>(file)), std::istreambuf_iterator<char>());\n",
    "}"
   ]
  },
  {
   "cell_type": "code",
   "execution_count": null,
   "id": "operational-edmonton",
   "metadata": {},
   "outputs": [],
   "source": [
    "template <class E>\n",
    "std::vector<char> to_png_buffer(const xt::xexpression<E>& e)\n",
    "{\n",
    "    const char* temp_filename = \"/tmp/xio_image.png\";\n",
    "    xt::dump_image(temp_filename, e);\n",
    "    return read_file(temp_filename);\n",
    "}"
   ]
  },
  {
   "cell_type": "code",
   "execution_count": null,
   "id": "applied-series",
   "metadata": {},
   "outputs": [],
   "source": [
    "xw::image img;\n",
    "img.value = to_png_buffer(a_cmap);\n",
    "img"
   ]
  },
  {
   "cell_type": "markdown",
   "id": "creative-mambo",
   "metadata": {},
   "source": [
    "Now let's plot the mean of slices 1000 to 1100 along the time dimension."
   ]
  },
  {
   "cell_type": "code",
   "execution_count": null,
   "id": "freelance-stylus",
   "metadata": {},
   "outputs": [],
   "source": [
    "//xt::xstrided_slice_vector sv({xt::range(1000, 1100), xt::all(), xt::all()});\n",
    "//auto z_slice = xt::strided_view(z, sv);"
   ]
  },
  {
   "cell_type": "code",
   "execution_count": null,
   "id": "thermal-collaboration",
   "metadata": {},
   "outputs": [],
   "source": [
    "//auto z_mean = xt::mean(z_slice);"
   ]
  },
  {
   "cell_type": "code",
   "execution_count": null,
   "id": "olive-murder",
   "metadata": {},
   "outputs": [],
   "source": [
    "//auto a = z_mean.get_array<float>();"
   ]
  },
  {
   "cell_type": "code",
   "execution_count": null,
   "id": "fallen-definition",
   "metadata": {},
   "outputs": [],
   "source": [
    "//auto a_max = xt::amax(a)();\n",
    "//xt::xarray<uint8_t> a_clip = xt::clip(a, 0, a_max);"
   ]
  },
  {
   "cell_type": "code",
   "execution_count": null,
   "id": "seventh-blackjack",
   "metadata": {},
   "outputs": [],
   "source": [
    "//auto a_cmap = cppcolormap::as_colors(a_clip, cmap);"
   ]
  },
  {
   "cell_type": "code",
   "execution_count": null,
   "id": "infinite-panel",
   "metadata": {},
   "outputs": [],
   "source": [
    "//xw::image img;\n",
    "//img.value = to_png_buffer(a_cmap);\n",
    "//img"
   ]
  }
 ],
 "metadata": {
  "kernelspec": {
   "display_name": "C++14",
   "language": "C++14",
   "name": "xcpp14"
  },
  "language_info": {
   "codemirror_mode": "text/x-c++src",
   "file_extension": ".cpp",
   "mimetype": "text/x-c++src",
   "name": "c++",
   "version": "14"
  }
 },
 "nbformat": 4,
 "nbformat_minor": 5
}
